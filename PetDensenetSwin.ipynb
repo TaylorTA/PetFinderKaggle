{
  "nbformat": 4,
  "nbformat_minor": 0,
  "metadata": {
    "colab": {
      "name": "PetDensenetSwin.ipynb",
      "provenance": [],
      "collapsed_sections": []
    },
    "kernelspec": {
      "name": "python3",
      "display_name": "Python 3"
    },
    "language_info": {
      "name": "python"
    }
  },
  "cells": [
    {
      "cell_type": "code",
      "execution_count": null,
      "metadata": {
        "id": "DWYyl7Ziqmhb"
      },
      "outputs": [],
      "source": [
        "# imports\n",
        "import torch\n",
        "import torch.nn as nn\n",
        "from torch.utils.data import Dataset\n",
        "from torch.utils.data import DataLoader\n",
        "from torchvision import transforms, models\n",
        "import os\n",
        "import pandas as pd\n",
        "from skimage import io"
      ]
    },
    {
      "cell_type": "code",
      "source": [
        "# set device\n",
        "device = torch.device('cuda' if torch.cuda.is_available() else 'cpu')\n",
        "device"
      ],
      "metadata": {
        "colab": {
          "base_uri": "https://localhost:8080/"
        },
        "id": "X6O9dqcSq9RE",
        "outputId": "bf529b10-bbe5-4443-96e0-60696805c29a"
      },
      "execution_count": null,
      "outputs": [
        {
          "output_type": "execute_result",
          "data": {
            "text/plain": [
              "device(type='cpu')"
            ]
          },
          "metadata": {},
          "execution_count": 3
        }
      ]
    },
    {
      "cell_type": "code",
      "source": [
        "# set hyperparameters\n",
        "batch_size = 128\n",
        "learning_rate = 0.00001"
      ],
      "metadata": {
        "id": "SttHrGjqq_o2"
      },
      "execution_count": null,
      "outputs": []
    },
    {
      "cell_type": "code",
      "source": [
        "# read in the dataset\n",
        "\n",
        "# mount the google drive data\n",
        "from google.colab import drive\n",
        "drive.mount('/content/drive')\n",
        "\n",
        "# define a custom dataset class\n",
        "class PetFinderDataset(Dataset):\n",
        "  def __init__(self, csv_file, root_dir, transform=None):\n",
        "    self.annotations = pd.read_csv(csv_file)\n",
        "    self.root_dir = root_dir\n",
        "    self.transform = transform\n",
        "\n",
        "  def __len__(self):\n",
        "    return len(self.annotations)\n",
        "\n",
        "  def __getitem__(self, index):\n",
        "    img_path = os.path.join(self.root_dir, self.annotations.iloc[index,0]+\".jpg\")\n",
        "    image = io.imread(img_path)\n",
        "    # y_label = torch.tensor((int(self.annotations.iloc[index, 13]))/100) # regression\n",
        "    y_label = torch.tensor((int(self.annotations.iloc[index, 13]))//10)\n",
        "    \n",
        "    if self.transform:\n",
        "      image = self.transform(image)\n",
        "    \n",
        "    return (image, y_label)\n",
        "\n"
      ],
      "metadata": {
        "colab": {
          "base_uri": "https://localhost:8080/"
        },
        "id": "717cDAL2rBgH",
        "outputId": "220154a3-df3e-400d-81b8-2b2a89fdc959"
      },
      "execution_count": null,
      "outputs": [
        {
          "output_type": "stream",
          "name": "stdout",
          "text": [
            "Drive already mounted at /content/drive; to attempt to forcibly remount, call drive.mount(\"/content/drive\", force_remount=True).\n"
          ]
        }
      ]
    },
    {
      "cell_type": "code",
      "source": [
        "from torch.utils import data\n",
        "# data preprocessing: reshape and normalize (meet the requirement of resnet18)\n",
        "preprocess_train = transforms.Compose([\n",
        "    transforms.ToPILImage(),\n",
        "    transforms.Resize(256),\n",
        "    transforms.CenterCrop(224),\n",
        "    transforms.RandomHorizontalFlip(),\n",
        "    transforms.ColorJitter(brightness=0.1, contrast=0.1, saturation=0.1, hue=0.1),\n",
        "    transforms.ToTensor(),\n",
        "    transforms.Normalize(mean=[0.485, 0.456, 0.406], std=[0.229, 0.224, 0.225]),\n",
        "    ])\n",
        "\n",
        "\n",
        "# load the data, divide into train and validation dataset and transform\n",
        "dataset = PetFinderDataset(csv_file = \"/content/drive/MyDrive/petfinder-pawpularity-score/train2.csv\", \n",
        "                           root_dir = \"/content/drive/MyDrive/petfinder-pawpularity-score/train\",\n",
        "                           transform = preprocess_train)\n",
        "# print(len(dataset))\n",
        "train_set, val_set = torch.utils.data.random_split(dataset,[400, 98]) # \n",
        "# train_set, val_set = torch.utils.data.random_split(dataset,[9656,256]) # test\n",
        "train_loader = DataLoader(dataset = train_set, batch_size=batch_size, shuffle=True)\n",
        "val_loader = DataLoader(dataset = val_set, batch_size=batch_size, shuffle=True)"
      ],
      "metadata": {
        "id": "rMw8jM3ErGmg"
      },
      "execution_count": null,
      "outputs": []
    },
    {
      "cell_type": "code",
      "source": [
        "import matplotlib.pyplot as plt\n",
        "image = io.imread(\"/content/drive/MyDrive/petfinder-pawpularity-score/train/ff602c36a58c20d88fd0f543fd671040.jpg\")\n",
        "check_preprocess = transforms.Compose([\n",
        "    transforms.ToPILImage(),\n",
        "    transforms.Resize(256),\n",
        "    transforms.RandomHorizontalFlip(),\n",
        "    transforms.ColorJitter(brightness=0.1, contrast=0.1, saturation=0.1),\n",
        "    transforms.RandomAffine(10),\n",
        "    transforms.CenterCrop(224),\n",
        "    transforms.ToTensor(),\n",
        "    ])\n",
        "image = check_preprocess(image)\n",
        "image = transforms.ToPILImage()(image).convert(\"RGB\")\n",
        "plt.imshow(image)\n",
        "plt.show()"
      ],
      "metadata": {
        "colab": {
          "base_uri": "https://localhost:8080/",
          "height": 269
        },
        "id": "wH4AYubESMRt",
        "outputId": "c67ace28-10e9-4729-9b84-8e699b58c086"
      },
      "execution_count": null,
      "outputs": [
        {
          "output_type": "display_data",
          "data": {
            "image/png": "[encoded data removed]",
            "text/plain": [
              "<Figure size 432x288 with 1 Axes>"
            ]
          },
          "metadata": {
            "needs_background": "light"
          }
        }
      ]
    },
    {
      "cell_type": "code",
      "source": [
        "def check_test_loss(test_loader, model):\n",
        "  loss = 0.0\n",
        "  number_samples = 0\n",
        "  criterion = nn.MSELoss(reduction=\"sum\")\n",
        "  model.eval()\n",
        "  with torch.no_grad():\n",
        "    for x, y in test_loader:\n",
        "      x = x.to(device)\n",
        "      y = y.to(device)\n",
        "      y = y.unsqueeze(1)\n",
        "      score = model(x)\n",
        "      # print(score)\n",
        "      # print(y)\n",
        "      loss += criterion(score, y).sum()\n",
        "      number_samples += y.size(0)\n",
        "    RMSE = torch.sqrt(loss/number_samples)\n",
        "    print(f\"test number of samples: %d \"%number_samples)\n",
        "    print(f\"test RMSE: %.3f\" % RMSE)\n",
        "  return RMSE"
      ],
      "metadata": {
        "id": "s1O_jNPPrKDR"
      },
      "execution_count": null,
      "outputs": []
    },
    {
      "cell_type": "code",
      "source": [
        "# model.to(device)\n",
        "# check_test_loss(val_loader, model)"
      ],
      "metadata": {
        "id": "iy1n2RGnrMaW"
      },
      "execution_count": null,
      "outputs": []
    },
    {
      "cell_type": "code",
      "source": [
        "# define a train function\n",
        "def train(net, train_iter, test_iter, num_epochs, lr, device, train_loss, test_loss):\n",
        "    # def init_weights(m):\n",
        "    #     if type(m) == nn.Linear or type(m) == nn.Conv2d:\n",
        "    #         nn.init.xavier_uniform_(m.weight)\n",
        "    # net.apply(init_weights) \n",
        "    print('training on', device)\n",
        "    net.to(device)\n",
        "    optimizer = torch.optim.SGD(filter(lambda p: p.requires_grad, net.parameters()), lr=lr, momentum = 0.9, weight_decay= 0)\n",
        "    # loss = nn.MSELoss(reduction=\"sum\")\n",
        "    loss = nn.CrossEntropyLoss()\n",
        "    for epoch in range(num_epochs):\n",
        "        net.train()\n",
        "        running_loss = 0.0;\n",
        "        number_samples = 0\n",
        "        for i, (X, y) in enumerate(train_iter):\n",
        "            number_samples += y.size(0)\n",
        "            # if (i%10==0): print(\"batch: \"+str(i))\n",
        "            optimizer.zero_grad()\n",
        "            X, y = X.to(device), y.to(device)\n",
        "            # print(X.shape)\n",
        "            y_hat = net(X)\n",
        "            print(y)\n",
        "            print(y_hat)\n",
        "            y = y.to(torch.float32)\n",
        "            y = y.unsqueeze(1)\n",
        "            y_hat = y_hat.to(torch.float32)\n",
        "            l = loss(y_hat, y)\n",
        "            # print(\"y_hat shape:\" + y_hat.shape)\n",
        "            # print(\"y shape:\" + y.shape)\n",
        "            l.backward()\n",
        "            optimizer.step()\n",
        "            running_loss += l.sum()\n",
        "            # if (i%10==0): \n",
        "            #   print(\"y_hat:\")\n",
        "            #   print(y_hat)\n",
        "            #   print(\"y:\")\n",
        "            #   print(y)\n",
        "            # if (epoch%5==0 and i==60): print(y_hat)\n",
        "        print('[%d] train loss: %.3f' % (epoch+1,running_loss))\n",
        "        print('[%d] number of samples: %d' % (epoch+1,number_samples))\n",
        "        print('[%d] train average loss: %.3f' % (epoch+1,running_loss/number_samples))\n",
        "        print('[%d] train RMSE: %.3f' % (epoch+1,torch.sqrt(running_loss/number_samples)))\n",
        "        train_loss.append(torch.sqrt(running_loss/number_samples))\n",
        "        test_loss.append(check_test_loss(test_iter, net))\n",
        "    print(\"finish running\")\n"
      ],
      "metadata": {
        "id": "sTnABEVqrPNd"
      },
      "execution_count": null,
      "outputs": []
    },
    {
      "cell_type": "code",
      "source": [
        "# Initialize a baseline CNN model resnet 18\n",
        "model = models.resnet50(pretrained=True)\n",
        "#model.fc = nn.Sequential(nn.Linear(2048, 10), nn.ReLU(inplace=True),nn.Linear(10, 1) ) # regression\n",
        "model.fc = nn.Sequential(nn.Linear(2048, 10))\n",
        "\n",
        "# for name, param in model.named_parameters():\n",
        "#   if param.requires_grad:\n",
        "#     if (name.find(\"fc\") == -1 and name.find(\"layer4\") == -1):\n",
        "#       param.requires_grad = False\n",
        "\n",
        "def init_weights(m):\n",
        "    if isinstance(m, nn.Linear):\n",
        "        torch.nn.init.xavier_uniform_(m.weight)\n",
        "        m.bias.data.fill_(0.01)\n",
        "\n",
        "# model = models.resnet50()\n",
        "# model.fc = nn.Sequential(nn.Linear(2048, 10), nn.ReLU(), nn.Linear(10, 1)) # modify resnet18 because this is a regression problem\n",
        "# model.load_state_dict(torch.load(\"/content/resnet50.pth\"))\n",
        "model.fc.apply(init_weights)\n",
        "# model.eval()"
      ],
      "metadata": {
        "colab": {
          "base_uri": "https://localhost:8080/",
          "height": 236
        },
        "id": "gj2RMyRqryyG",
        "outputId": "9227acc2-38f0-4249-bc94-72fdae76e9bd"
      },
      "execution_count": null,
      "outputs": [
        {
          "output_type": "error",
          "ename": "NameError",
          "evalue": "ignored",
          "traceback": [
            "\u001b[0;31m---------------------------------------------------------------------------\u001b[0m",
            "\u001b[0;31mNameError\u001b[0m                                 Traceback (most recent call last)",
            "\u001b[0;32m<ipython-input-2-44ade3c13d65>\u001b[0m in \u001b[0;36m<module>\u001b[0;34m()\u001b[0m\n\u001b[1;32m      1\u001b[0m \u001b[0;31m# Initialize a baseline CNN model resnet 18\u001b[0m\u001b[0;34m\u001b[0m\u001b[0;34m\u001b[0m\u001b[0;34m\u001b[0m\u001b[0m\n\u001b[0;32m----> 2\u001b[0;31m \u001b[0mmodel\u001b[0m \u001b[0;34m=\u001b[0m \u001b[0mmodels\u001b[0m\u001b[0;34m.\u001b[0m\u001b[0mresnet50\u001b[0m\u001b[0;34m(\u001b[0m\u001b[0mpretrained\u001b[0m\u001b[0;34m=\u001b[0m\u001b[0;32mTrue\u001b[0m\u001b[0;34m)\u001b[0m\u001b[0;34m\u001b[0m\u001b[0;34m\u001b[0m\u001b[0m\n\u001b[0m\u001b[1;32m      3\u001b[0m \u001b[0;31m#model.fc = nn.Sequential(nn.Linear(2048, 10), nn.ReLU(inplace=True),nn.Linear(10, 1) ) # regression\u001b[0m\u001b[0;34m\u001b[0m\u001b[0;34m\u001b[0m\u001b[0;34m\u001b[0m\u001b[0m\n\u001b[1;32m      4\u001b[0m \u001b[0mmodel\u001b[0m\u001b[0;34m.\u001b[0m\u001b[0mfc\u001b[0m \u001b[0;34m=\u001b[0m \u001b[0mnn\u001b[0m\u001b[0;34m.\u001b[0m\u001b[0mSequential\u001b[0m\u001b[0;34m(\u001b[0m\u001b[0mnn\u001b[0m\u001b[0;34m.\u001b[0m\u001b[0mLinear\u001b[0m\u001b[0;34m(\u001b[0m\u001b[0;36m2048\u001b[0m\u001b[0;34m,\u001b[0m \u001b[0;36m10\u001b[0m\u001b[0;34m)\u001b[0m\u001b[0;34m)\u001b[0m\u001b[0;34m\u001b[0m\u001b[0;34m\u001b[0m\u001b[0m\n\u001b[1;32m      5\u001b[0m \u001b[0;34m\u001b[0m\u001b[0m\n",
            "\u001b[0;31mNameError\u001b[0m: name 'models' is not defined"
          ]
        }
      ]
    },
    {
      "cell_type": "code",
      "source": [
        "for name, param in model.named_parameters():\n",
        "  if param.requires_grad:print(name)"
      ],
      "metadata": {
        "colab": {
          "base_uri": "https://localhost:8080/"
        },
        "id": "NQxKKytUSxfs",
        "outputId": "b418537a-f291-4a24-b9c1-5446422a4f6e"
      },
      "execution_count": null,
      "outputs": [
        {
          "output_type": "stream",
          "name": "stdout",
          "text": [
            "conv1.weight\n",
            "bn1.weight\n",
            "bn1.bias\n",
            "layer1.0.conv1.weight\n",
            "layer1.0.bn1.weight\n",
            "layer1.0.bn1.bias\n",
            "layer1.0.conv2.weight\n",
            "layer1.0.bn2.weight\n",
            "layer1.0.bn2.bias\n",
            "layer1.0.conv3.weight\n",
            "layer1.0.bn3.weight\n",
            "layer1.0.bn3.bias\n",
            "layer1.0.downsample.0.weight\n",
            "layer1.0.downsample.1.weight\n",
            "layer1.0.downsample.1.bias\n",
            "layer1.1.conv1.weight\n",
            "layer1.1.bn1.weight\n",
            "layer1.1.bn1.bias\n",
            "layer1.1.conv2.weight\n",
            "layer1.1.bn2.weight\n",
            "layer1.1.bn2.bias\n",
            "layer1.1.conv3.weight\n",
            "layer1.1.bn3.weight\n",
            "layer1.1.bn3.bias\n",
            "layer1.2.conv1.weight\n",
            "layer1.2.bn1.weight\n",
            "layer1.2.bn1.bias\n",
            "layer1.2.conv2.weight\n",
            "layer1.2.bn2.weight\n",
            "layer1.2.bn2.bias\n",
            "layer1.2.conv3.weight\n",
            "layer1.2.bn3.weight\n",
            "layer1.2.bn3.bias\n",
            "layer2.0.conv1.weight\n",
            "layer2.0.bn1.weight\n",
            "layer2.0.bn1.bias\n",
            "layer2.0.conv2.weight\n",
            "layer2.0.bn2.weight\n",
            "layer2.0.bn2.bias\n",
            "layer2.0.conv3.weight\n",
            "layer2.0.bn3.weight\n",
            "layer2.0.bn3.bias\n",
            "layer2.0.downsample.0.weight\n",
            "layer2.0.downsample.1.weight\n",
            "layer2.0.downsample.1.bias\n",
            "layer2.1.conv1.weight\n",
            "layer2.1.bn1.weight\n",
            "layer2.1.bn1.bias\n",
            "layer2.1.conv2.weight\n",
            "layer2.1.bn2.weight\n",
            "layer2.1.bn2.bias\n",
            "layer2.1.conv3.weight\n",
            "layer2.1.bn3.weight\n",
            "layer2.1.bn3.bias\n",
            "layer2.2.conv1.weight\n",
            "layer2.2.bn1.weight\n",
            "layer2.2.bn1.bias\n",
            "layer2.2.conv2.weight\n",
            "layer2.2.bn2.weight\n",
            "layer2.2.bn2.bias\n",
            "layer2.2.conv3.weight\n",
            "layer2.2.bn3.weight\n",
            "layer2.2.bn3.bias\n",
            "layer2.3.conv1.weight\n",
            "layer2.3.bn1.weight\n",
            "layer2.3.bn1.bias\n",
            "layer2.3.conv2.weight\n",
            "layer2.3.bn2.weight\n",
            "layer2.3.bn2.bias\n",
            "layer2.3.conv3.weight\n",
            "layer2.3.bn3.weight\n",
            "layer2.3.bn3.bias\n",
            "layer3.0.conv1.weight\n",
            "layer3.0.bn1.weight\n",
            "layer3.0.bn1.bias\n",
            "layer3.0.conv2.weight\n",
            "layer3.0.bn2.weight\n",
            "layer3.0.bn2.bias\n",
            "layer3.0.conv3.weight\n",
            "layer3.0.bn3.weight\n",
            "layer3.0.bn3.bias\n",
            "layer3.0.downsample.0.weight\n",
            "layer3.0.downsample.1.weight\n",
            "layer3.0.downsample.1.bias\n",
            "layer3.1.conv1.weight\n",
            "layer3.1.bn1.weight\n",
            "layer3.1.bn1.bias\n",
            "layer3.1.conv2.weight\n",
            "layer3.1.bn2.weight\n",
            "layer3.1.bn2.bias\n",
            "layer3.1.conv3.weight\n",
            "layer3.1.bn3.weight\n",
            "layer3.1.bn3.bias\n",
            "layer3.2.conv1.weight\n",
            "layer3.2.bn1.weight\n",
            "layer3.2.bn1.bias\n",
            "layer3.2.conv2.weight\n",
            "layer3.2.bn2.weight\n",
            "layer3.2.bn2.bias\n",
            "layer3.2.conv3.weight\n",
            "layer3.2.bn3.weight\n",
            "layer3.2.bn3.bias\n",
            "layer3.3.conv1.weight\n",
            "layer3.3.bn1.weight\n",
            "layer3.3.bn1.bias\n",
            "layer3.3.conv2.weight\n",
            "layer3.3.bn2.weight\n",
            "layer3.3.bn2.bias\n",
            "layer3.3.conv3.weight\n",
            "layer3.3.bn3.weight\n",
            "layer3.3.bn3.bias\n",
            "layer3.4.conv1.weight\n",
            "layer3.4.bn1.weight\n",
            "layer3.4.bn1.bias\n",
            "layer3.4.conv2.weight\n",
            "layer3.4.bn2.weight\n",
            "layer3.4.bn2.bias\n",
            "layer3.4.conv3.weight\n",
            "layer3.4.bn3.weight\n",
            "layer3.4.bn3.bias\n",
            "layer3.5.conv1.weight\n",
            "layer3.5.bn1.weight\n",
            "layer3.5.bn1.bias\n",
            "layer3.5.conv2.weight\n",
            "layer3.5.bn2.weight\n",
            "layer3.5.bn2.bias\n",
            "layer3.5.conv3.weight\n",
            "layer3.5.bn3.weight\n",
            "layer3.5.bn3.bias\n",
            "layer4.0.conv1.weight\n",
            "layer4.0.bn1.weight\n",
            "layer4.0.bn1.bias\n",
            "layer4.0.conv2.weight\n",
            "layer4.0.bn2.weight\n",
            "layer4.0.bn2.bias\n",
            "layer4.0.conv3.weight\n",
            "layer4.0.bn3.weight\n",
            "layer4.0.bn3.bias\n",
            "layer4.0.downsample.0.weight\n",
            "layer4.0.downsample.1.weight\n",
            "layer4.0.downsample.1.bias\n",
            "layer4.1.conv1.weight\n",
            "layer4.1.bn1.weight\n",
            "layer4.1.bn1.bias\n",
            "layer4.1.conv2.weight\n",
            "layer4.1.bn2.weight\n",
            "layer4.1.bn2.bias\n",
            "layer4.1.conv3.weight\n",
            "layer4.1.bn3.weight\n",
            "layer4.1.bn3.bias\n",
            "layer4.2.conv1.weight\n",
            "layer4.2.bn1.weight\n",
            "layer4.2.bn1.bias\n",
            "layer4.2.conv2.weight\n",
            "layer4.2.bn2.weight\n",
            "layer4.2.bn2.bias\n",
            "layer4.2.conv3.weight\n",
            "layer4.2.bn3.weight\n",
            "layer4.2.bn3.bias\n",
            "fc.0.weight\n",
            "fc.0.bias\n"
          ]
        }
      ]
    },
    {
      "cell_type": "code",
      "source": [
        "train_loss = []\n",
        "test_loss = []"
      ],
      "metadata": {
        "id": "fXRDqlS3r3Nn"
      },
      "execution_count": null,
      "outputs": []
    },
    {
      "cell_type": "code",
      "source": [
        "train_loss"
      ],
      "metadata": {
        "colab": {
          "base_uri": "https://localhost:8080/"
        },
        "id": "plYAgEpyr6zo",
        "outputId": "77f3f868-99bc-4893-da2f-f554646fa662"
      },
      "execution_count": null,
      "outputs": [
        {
          "output_type": "execute_result",
          "data": {
            "text/plain": [
              "[]"
            ]
          },
          "metadata": {},
          "execution_count": 13
        }
      ]
    },
    {
      "cell_type": "code",
      "source": [
        "test_loss"
      ],
      "metadata": {
        "colab": {
          "base_uri": "https://localhost:8080/"
        },
        "id": "bhKjRN5Wr9FZ",
        "outputId": "59a43bc4-3cc7-438b-e9c3-c223de79a697"
      },
      "execution_count": null,
      "outputs": [
        {
          "output_type": "execute_result",
          "data": {
            "text/plain": [
              "[]"
            ]
          },
          "metadata": {},
          "execution_count": 14
        }
      ]
    },
    {
      "cell_type": "code",
      "source": [
        "train(model, train_loader, val_loader, 5, 0.000005, device, train_loss, test_loss)"
      ],
      "metadata": {
        "colab": {
          "base_uri": "https://localhost:8080/"
        },
        "id": "kSLyjPHisALI",
        "outputId": "4ae7c763-3698-4312-c93d-6206e6609e01"
      },
      "execution_count": null,
      "outputs": [
        {
          "output_type": "stream",
          "name": "stdout",
          "text": [
            "training on cpu\n"
          ]
        }
      ]
    },
    {
      "cell_type": "code",
      "source": [
        "# download the model\n",
        "torch.save(model.state_dict(), \"resnet50.pth\")\n",
        "\n",
        "from google.colab import files\n",
        "files.download('resnet50.pth')"
      ],
      "metadata": {
        "colab": {
          "base_uri": "https://localhost:8080/",
          "height": 236
        },
        "id": "ClQXxKMDsGUh",
        "outputId": "48a4baac-b058-4b8f-e24d-8eedc8a52324"
      },
      "execution_count": null,
      "outputs": [
        {
          "output_type": "error",
          "ename": "NameError",
          "evalue": "ignored",
          "traceback": [
            "\u001b[0;31m---------------------------------------------------------------------------\u001b[0m",
            "\u001b[0;31mNameError\u001b[0m                                 Traceback (most recent call last)",
            "\u001b[0;32m<ipython-input-1-c96d550e2331>\u001b[0m in \u001b[0;36m<module>\u001b[0;34m()\u001b[0m\n\u001b[1;32m      1\u001b[0m \u001b[0;31m# download the model\u001b[0m\u001b[0;34m\u001b[0m\u001b[0;34m\u001b[0m\u001b[0;34m\u001b[0m\u001b[0m\n\u001b[0;32m----> 2\u001b[0;31m \u001b[0mtorch\u001b[0m\u001b[0;34m.\u001b[0m\u001b[0msave\u001b[0m\u001b[0;34m(\u001b[0m\u001b[0mmodel\u001b[0m\u001b[0;34m.\u001b[0m\u001b[0mstate_dict\u001b[0m\u001b[0;34m(\u001b[0m\u001b[0;34m)\u001b[0m\u001b[0;34m,\u001b[0m \u001b[0;34m\"resnet50.pth\"\u001b[0m\u001b[0;34m)\u001b[0m\u001b[0;34m\u001b[0m\u001b[0;34m\u001b[0m\u001b[0m\n\u001b[0m\u001b[1;32m      3\u001b[0m \u001b[0;34m\u001b[0m\u001b[0m\n\u001b[1;32m      4\u001b[0m \u001b[0;32mfrom\u001b[0m \u001b[0mgoogle\u001b[0m\u001b[0;34m.\u001b[0m\u001b[0mcolab\u001b[0m \u001b[0;32mimport\u001b[0m \u001b[0mfiles\u001b[0m\u001b[0;34m\u001b[0m\u001b[0;34m\u001b[0m\u001b[0m\n\u001b[1;32m      5\u001b[0m \u001b[0mfiles\u001b[0m\u001b[0;34m.\u001b[0m\u001b[0mdownload\u001b[0m\u001b[0;34m(\u001b[0m\u001b[0;34m'resnet50.pth'\u001b[0m\u001b[0;34m)\u001b[0m\u001b[0;34m\u001b[0m\u001b[0;34m\u001b[0m\u001b[0m\n",
            "\u001b[0;31mNameError\u001b[0m: name 'torch' is not defined"
          ]
        }
      ]
    },
    {
      "cell_type": "code",
      "source": [
        "import matplotlib.pyplot as plt\n",
        "\n",
        "def display(loader, model):\n",
        "  model.eval()\n",
        "  with torch.no_grad():\n",
        "    for x, y in loader:\n",
        "      # x = x.to(device)\n",
        "      # y = y.to(device)\n",
        "      # y = y.unsqueeze(1)\n",
        "      # score = model(x)\n",
        "      # print(score)\n",
        "      for image in x:\n",
        "        image = image.view(image.shape[1], image.shape[2], image.shape[0])\n",
        "        plt.imshow(image)\n",
        "      # print(score)\n",
        "      # print(y)\n"
      ],
      "metadata": {
        "id": "mQI_Y7hFsM4k"
      },
      "execution_count": null,
      "outputs": []
    },
    {
      "cell_type": "code",
      "source": [
        "display(val_loader, model)"
      ],
      "metadata": {
        "id": "ffXgUSz6sPak"
      },
      "execution_count": null,
      "outputs": []
    }
  ]
}